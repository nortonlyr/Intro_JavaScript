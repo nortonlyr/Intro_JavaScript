{
 "cells": [
  {
   "cell_type": "code",
   "execution_count": 44,
   "metadata": {},
   "outputs": [],
   "source": [
    "import pixiedust_node"
   ]
  },
  {
   "cell_type": "code",
   "execution_count": 55,
   "metadata": {},
   "outputs": [
    {
     "name": "stdout",
     "output_type": "stream",
     "text": [
      "51\n",
      "\n",
      "... ...\n",
      "... ...\n"
     ]
    }
   ],
   "source": [
    "%%node\n",
    "// lecture: Hoisting\n",
    "\n",
    "    calculateAge(1965);\n",
    "    function calculateAge(year){\n",
    "        console.log(2016 - year);\n",
    "    }\n",
    "    \n",
    "// retirement(1956)\n",
    "    var retirement = function(year){\n",
    "        console.log(65 - (2016 - year));\n",
    "    }"
   ]
  },
  {
   "cell_type": "code",
   "execution_count": 56,
   "metadata": {},
   "outputs": [
    {
     "name": "stdout",
     "output_type": "stream",
     "text": [
      "23\n",
      "\n"
     ]
    }
   ],
   "source": [
    "%%node\n",
    "//variable\n",
    "\n",
    "console.log(age);\n",
    "var age = 23;"
   ]
  },
  {
   "cell_type": "code",
   "execution_count": 57,
   "metadata": {},
   "outputs": [
    {
     "name": "stdout",
     "output_type": "stream",
     "text": [
      "... ... ... ...\n",
      "undefined\n",
      "65\n",
      "\n",
      "23\n",
      "\n"
     ]
    }
   ],
   "source": [
    "%%node\n",
    "function foo(){\n",
    "    console.log(age);\n",
    "    var age = 65;\n",
    "    console.log(age);\n",
    "}\n",
    "foo();\n",
    "console.log(age);"
   ]
  },
  {
   "cell_type": "code",
   "execution_count": 58,
   "metadata": {},
   "outputs": [
    {
     "name": "stdout",
     "output_type": "stream",
     "text": [
      "Hello!John!\n",
      "... ... ... ... ..... ..... ..... ...\n"
     ]
    }
   ],
   "source": [
    "%%node\n",
    "// lecture: scoping\n",
    "    \n",
    "var a = 'Hello!';\n",
    "first();\n",
    "\n",
    "function first() {\n",
    "    var b = 'Hi!';\n",
    "    second();\n",
    "    \n",
    "    function second() {\n",
    "        var c = 'Hey!';\n",
    "        console.log(a + b + c);\n",
    "    }\n",
    "}"
   ]
  },
  {
   "cell_type": "code",
   "execution_count": 59,
   "metadata": {},
   "outputs": [
    {
     "name": "stdout",
     "output_type": "stream",
     "text": [
      "Hello!Hi!Hey!\n",
      "... ... ... ... ..... ..... ..... ...\n",
      "... ... ...\n"
     ]
    }
   ],
   "source": [
    "%%node\n",
    "var a = 'Hello!';\n",
    "first();\n",
    "\n",
    "function first(){\n",
    "    var b = 'Hi';\n",
    "    second();\n",
    "    \n",
    "    function second(){\n",
    "        var c = 'Hey!';\n",
    "        third();\n",
    "    }\n",
    "}\n",
    "\n",
    "function third(){\n",
    "    var d = 'John!';\n",
    "    console.log(a + d)\n",
    "}"
   ]
  },
  {
   "cell_type": "code",
   "execution_count": 60,
   "metadata": {},
   "outputs": [
    {
     "name": "stdout",
     "output_type": "stream",
     "text": [
      "Uncaught\n",
      "... ... ...\n",
      "... ... ... ..... ..... ..... ..... ....... ....... ..... ..... ...\n",
      "{\n",
      "name: 'John',\n",
      "yearOfBirth: 1990,\n",
      "calculateAge: [Function: calculateAge]\n",
      "}\n",
      "26\n",
      "\n",
      "{\n",
      "global: {\n",
      "global: [Circular],\n",
      "clearInterval: [Function: clearInterval],\n",
      "clearTimeout: [Function: clearTimeout],\n",
      "setInterval: [Function: setInterval],\n",
      "setTimeout: [Function: setTimeout] {\n",
      "[Symbol(nodejs.util.promisify.custom)]: [Function]\n",
      "},\n",
      "queueMicrotask: [Function: queueMicrotask],\n",
      "clearImmediate: [Function: clearImmediate],\n",
      "setImmediate: [Function: setImmediate] {\n",
      "[Symbol(nodejs.util.promisify.custom)]: [Function]\n",
      "},\n",
      "print: [Function: print],\n",
      "display: [Function: display],\n",
      "store: [Function: store],\n",
      "html: [Function: html],\n",
      "image: [Function: image],\n",
      "help: [Function: help],\n",
      "calculateAge: [Function: calculateAge],\n",
      "retirement: [Function: retirement],\n",
      "age: 23,\n",
      "foo: [Function: foo],\n",
      "a: 'Hello!',\n",
      "first: [Function: first],\n",
      "third: [Function: third],\n",
      "john: {\n",
      "name: 'John',\n",
      "yearOfBirth: 1990,\n",
      "calculateAge: [Function: calculateAge]\n",
      "},\n",
      "mike: {\n",
      "name: 'Mike',\n",
      "yearOfBirth: 1984,\n",
      "calculateAge: [Function: calculateAge]\n",
      "}\n",
      "},\n",
      "clearInterval: [Function: clearInterval],\n",
      "clearTimeout: [Function: clearTimeout],\n",
      "setInterval: [Function: setInterval],\n",
      "setTimeout: [Function: setTimeout] {\n",
      "[Symbol(nodejs.util.promisify.custom)]: [Function]\n",
      "},\n",
      "queueMicrotask: [Function: queueMicrotask],\n",
      "clearImmediate: [Function: clearImmediate],\n",
      "setImmediate: [Function: setImmediate] {\n",
      "[Symbol(nodejs.util.promisify.custom)]: [Function]\n",
      "},\n",
      "print: [Function: print],\n",
      "display: [Function: display],\n",
      "store: [Function: store],\n",
      "html: [Function: html],\n",
      "image: [Function: image],\n",
      "help: [Function: help],\n",
      "calculateAge: [Function: calculateAge],\n",
      "retirement: [Function: retirement],\n",
      "age: 23,\n",
      "foo: [Function: foo],\n",
      "a: 'Hello!',\n",
      "first: [Function: first],\n",
      "third: [Function: third],\n",
      "john: {\n",
      "name: 'John',\n",
      "yearOfBirth: 1990,\n",
      "calculateAge: [Function: calculateAge]\n",
      "},\n",
      "mike: {\n",
      "name: 'Mike',\n",
      "yearOfBirth: 1984,\n",
      "calculateAge: [Function: calculateAge]\n",
      "}\n",
      "}\n",
      "... ... ...\n",
      "{\n",
      "name: 'Mike',\n",
      "yearOfBirth: 1984,\n",
      "calculateAge: [Function: calculateAge]\n",
      "}\n",
      "32\n",
      "\n",
      "{\n",
      "global: {\n",
      "global: [Circular],\n",
      "clearInterval: [Function: clearInterval],\n",
      "clearTimeout: [Function: clearTimeout],\n",
      "setInterval: [Function: setInterval],\n",
      "setTimeout: [Function: setTimeout] {\n",
      "[Symbol(nodejs.util.promisify.custom)]: [Function]\n",
      "},\n",
      "queueMicrotask: [Function: queueMicrotask],\n",
      "clearImmediate: [Function: clearImmediate],\n",
      "setImmediate: [Function: setImmediate] {\n",
      "[Symbol(nodejs.util.promisify.custom)]: [Function]\n",
      "},\n",
      "print: [Function: print],\n",
      "display: [Function: display],\n",
      "store: [Function: store],\n",
      "html: [Function: html],\n",
      "image: [Function: image],\n",
      "help: [Function: help],\n",
      "calculateAge: [Function: calculateAge],\n",
      "retirement: [Function: retirement],\n",
      "age: 23,\n",
      "foo: [Function: foo],\n",
      "a: 'Hello!',\n",
      "first: [Function: first],\n",
      "third: [Function: third],\n",
      "john: {\n",
      "name: 'John',\n",
      "yearOfBirth: 1990,\n",
      "calculateAge: [Function: calculateAge]\n",
      "},\n",
      "mike: {\n",
      "name: 'Mike',\n",
      "yearOfBirth: 1984,\n",
      "calculateAge: [Function: calculateAge]\n",
      "}\n",
      "},\n",
      "clearInterval: [Function: clearInterval],\n",
      "clearTimeout: [Function: clearTimeout],\n",
      "setInterval: [Function: setInterval],\n",
      "setTimeout: [Function: setTimeout] {\n",
      "[Symbol(nodejs.util.promisify.custom)]: [Function]\n",
      "},\n",
      "queueMicrotask: [Function: queueMicrotask],\n",
      "clearImmediate: [Function: clearImmediate],\n",
      "setImmediate: [Function: setImmediate] {\n",
      "[Symbol(nodejs.util.promisify.custom)]: [Function]\n",
      "},\n",
      "print: [Function: print],\n",
      "display: [Function: display],\n",
      "store: [Function: store],\n",
      "html: [Function: html],\n",
      "image: [Function: image],\n",
      "help: [Function: help],\n",
      "calculateAge: [Function: calculateAge],\n",
      "retirement: [Function: retirement],\n",
      "age: 23,\n",
      "foo: [Function: foo],\n",
      "a: 'Hello!',\n",
      "first: [Function: first],\n",
      "third: [Function: third],\n",
      "john: {\n",
      "name: 'John',\n",
      "yearOfBirth: 1990,\n",
      "calculateAge: [Function: calculateAge]\n",
      "},\n",
      "mike: {\n",
      "name: 'Mike',\n",
      "yearOfBirth: 1984,\n",
      "calculateAge: [Function: calculateAge]\n",
      "}\n",
      "}\n"
     ]
    }
   ],
   "source": [
    "%%node\n",
    "// the this keyword\n",
    "\n",
    "calculate(1985);\n",
    "function calculateAge(year) {\n",
    "    console.log(2016 - year);\n",
    "    console.log(this)\n",
    "}\n",
    "\n",
    "var john = {\n",
    "    name: 'John',\n",
    "    yearOfBirth: 1990,\n",
    "    calculateAge: function(){\n",
    "        console.log(this);\n",
    "        console.log(2016 - this.yearOfBirth);\n",
    "        \n",
    "        function innerFunction() {\n",
    "            console.log(this);\n",
    "        }\n",
    "        innerFunction();\n",
    "    }\n",
    "}\n",
    "\n",
    "john.calculateAge();\n",
    "\n",
    "var mike = {\n",
    "    name: 'Mike',\n",
    "    yearOfBirth: 1984\n",
    "};\n",
    "\n",
    "mike.calculateAge = john.calculateAge;\n",
    "mike.calculateAge()"
   ]
  },
  {
   "cell_type": "code",
   "execution_count": null,
   "metadata": {},
   "outputs": [],
   "source": []
  },
  {
   "cell_type": "code",
   "execution_count": null,
   "metadata": {},
   "outputs": [],
   "source": []
  },
  {
   "cell_type": "code",
   "execution_count": null,
   "metadata": {},
   "outputs": [],
   "source": []
  }
 ],
 "metadata": {
  "kernelspec": {
   "display_name": "Python 3",
   "language": "python",
   "name": "python3"
  },
  "language_info": {
   "codemirror_mode": {
    "name": "ipython",
    "version": 3
   },
   "file_extension": ".py",
   "mimetype": "text/x-python",
   "name": "python",
   "nbconvert_exporter": "python",
   "pygments_lexer": "ipython3",
   "version": "3.7.6"
  }
 },
 "nbformat": 4,
 "nbformat_minor": 4
}

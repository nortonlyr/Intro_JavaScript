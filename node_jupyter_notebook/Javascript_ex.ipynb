{
 "cells": [
  {
   "cell_type": "code",
   "execution_count": 5,
   "metadata": {},
   "outputs": [],
   "source": [
    "import pixiedust_node\n",
    "\n",
    "# !pip install pixiedust\n",
    "# !pip install pixiedust_node"
   ]
  },
  {
   "cell_type": "code",
   "execution_count": 6,
   "metadata": {},
   "outputs": [
    {
     "name": "stdout",
     "output_type": "stream",
     "text": [
      "\"2020-10-27T23:50:21.143Z\"\n"
     ]
    }
   ],
   "source": [
    "%%node\n",
    "var date = new Date();\n",
    "print(date);"
   ]
  },
  {
   "cell_type": "code",
   "execution_count": 7,
   "metadata": {},
   "outputs": [
    {
     "name": "stdout",
     "output_type": "stream",
     "text": [
      "{\"a\": 1, \"b\": \"two\", \"c\": true}\n"
     ]
    }
   ],
   "source": [
    "%%node\n",
    "var x = { a:1, b:'two', c: true };\n",
    "print(x)"
   ]
  },
  {
   "cell_type": "markdown",
   "metadata": {},
   "source": [
    "reference https://github.com/jonasschmedtmann/complete-javascript-course/"
   ]
  },
  {
   "cell_type": "code",
   "execution_count": 24,
   "metadata": {},
   "outputs": [
    {
     "name": "stdout",
     "output_type": "stream",
     "text": [
      "1995\n",
      "\n",
      "2022\n",
      "\n",
      "4040\n",
      "\n",
      "202\n",
      "\n"
     ]
    }
   ],
   "source": [
    "%%node\n",
    "// Basic operator\n",
    "var year, yearJohn, yearMark;\n",
    "now = 2020\n",
    "ageJohn = 25;\n",
    "ageMark = 27;\n",
    "\n",
    "// Math operator\n",
    "yearJohn= now - ageJohn;\n",
    "yeahMark = now - ageMark;\n",
    "\n",
    "console.log(yearJohn);\n",
    "\n",
    "console.log(now + 2);\n",
    "console.log(now * 2);\n",
    "console.log(now / 10);"
   ]
  },
  {
   "cell_type": "code",
   "execution_count": 17,
   "metadata": {},
   "outputs": [
    {
     "name": "stdout",
     "output_type": "stream",
     "text": [
      "John\n",
      "true\n",
      "\n"
     ]
    }
   ],
   "source": [
    "%%node\n",
    "var firstName = 'John';\n",
    "console.log(firstName);\n",
    "var lastName = 'Smith';\n",
    "var age = 28;\n",
    "var fullAge = true;\n",
    "console.log(fullAge);"
   ]
  },
  {
   "cell_type": "code",
   "execution_count": null,
   "metadata": {},
   "outputs": [],
   "source": []
  },
  {
   "cell_type": "markdown",
   "metadata": {},
   "source": [
    "PROBLEM 1:<br>\n",
    "We work for a company building a smart home thermometer. Our most recent task is this: \"Given an array of temperatures of one day, calculate the temperature amplitude. Keep in mind that sometimes there might be a sensor error.\"<br>\n",
    "const temperatures = [3, -2, -6, -1, 'error', 9, 13, 17, 15, 14, 9, 5];"
   ]
  },
  {
   "cell_type": "markdown",
   "metadata": {},
   "source": [
    "// 1) Understanding the problem<br>\n",
    "// - What is temp amplitude? Answer: difference between highest and lowest temp<br>\n",
    "// - How to compute max and min temperatures?<br>\n",
    "// - What's a sensor error? And what do do?<br>\n",
    "// 2) Breaking up into sub-problems<br>\n",
    "// - How to ignore errors?<br>\n",
    "// - Find max value in temp array<br>\n",
    "// - Find min value in temp array<br>\n",
    "// - Subtract min from max (amplitude) and return it"
   ]
  },
  {
   "cell_type": "code",
   "execution_count": 4,
   "metadata": {},
   "outputs": [
    {
     "name": "stdout",
     "output_type": "stream",
     "text": [
      "... ... ... ... ..... ..... ..... ..... Uncaught\n",
      "Uncaught\n",
      "Uncaught\n",
      "Uncaught\n",
      "Uncaught\n",
      "Uncaught\n",
      "Uncaught\n",
      "Uncaught\n"
     ]
    }
   ],
   "source": [
    "%%node\n",
    "const calcTempAmplitude = function(temps){\n",
    "    let max = temps[0];\n",
    "    let min = temps[0];\n",
    "    \n",
    "    for (let i = 0; i < temps.length; i++){\n",
    "        const curTemp = temps[i];\n",
    "        if (typeof curTemp !== 'number') continue;\n",
    "        \n",
    "        if(curTemp > max) = curTemp;\n",
    "        if(curTemp < min) = curTemp;\n",
    "    }\n",
    "    console.log(max, min);\n",
    "    return max - min;\n",
    "};\n",
    "const = amplitude = calcTempAmplitude(temperautres);\n",
    "console.log(amplitude);"
   ]
  },
  {
   "cell_type": "code",
   "execution_count": null,
   "metadata": {},
   "outputs": [],
   "source": []
  }
 ],
 "metadata": {
  "kernelspec": {
   "display_name": "Python 3",
   "language": "python",
   "name": "python3"
  },
  "language_info": {
   "codemirror_mode": {
    "name": "ipython",
    "version": 3
   },
   "file_extension": ".py",
   "mimetype": "text/x-python",
   "name": "python",
   "nbconvert_exporter": "python",
   "pygments_lexer": "ipython3",
   "version": "3.7.6"
  }
 },
 "nbformat": 4,
 "nbformat_minor": 4
}

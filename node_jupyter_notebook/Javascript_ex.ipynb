{
 "cells": [
  {
   "cell_type": "code",
   "execution_count": 12,
   "metadata": {},
   "outputs": [],
   "source": [
    "import pixiedust_node\n",
    "\n",
    "# !pip install pixiedust\n",
    "# !pip install pixiedust_node"
   ]
  },
  {
   "cell_type": "code",
   "execution_count": 13,
   "metadata": {},
   "outputs": [
    {
     "name": "stdout",
     "output_type": "stream",
     "text": [
      "\"2020-09-12T02:20:15.591Z\"\n"
     ]
    }
   ],
   "source": [
    "%%node\n",
    "var date = new Date();\n",
    "print(date);"
   ]
  },
  {
   "cell_type": "code",
   "execution_count": 14,
   "metadata": {},
   "outputs": [
    {
     "name": "stdout",
     "output_type": "stream",
     "text": [
      "{\"a\": 1, \"b\": \"two\", \"c\": true}\n"
     ]
    }
   ],
   "source": [
    "%%node\n",
    "var x = { a:1, b:'two', c: true };\n",
    "print(x)"
   ]
  },
  {
   "cell_type": "markdown",
   "metadata": {},
   "source": [
    "reference https://github.com/jonasschmedtmann/complete-javascript-course/blob/master/2-JS-basics/final/script.js"
   ]
  },
  {
   "cell_type": "code",
   "execution_count": 24,
   "metadata": {},
   "outputs": [
    {
     "name": "stdout",
     "output_type": "stream",
     "text": [
      "1995\n",
      "\n",
      "2022\n",
      "\n",
      "4040\n",
      "\n",
      "202\n",
      "\n"
     ]
    }
   ],
   "source": [
    "%%node\n",
    "// Basic operator\n",
    "var year, yearJohn, yearMark;\n",
    "now = 2020\n",
    "ageJohn = 25;\n",
    "ageMark = 27;\n",
    "\n",
    "// Math operator\n",
    "yearJohn= now - ageJohn;\n",
    "yeahMark = now - ageMark;\n",
    "\n",
    "console.log(yearJohn);\n",
    "\n",
    "console.log(now + 2);\n",
    "console.log(now * 2);\n",
    "console.log(now / 10);"
   ]
  },
  {
   "cell_type": "code",
   "execution_count": 17,
   "metadata": {},
   "outputs": [
    {
     "name": "stdout",
     "output_type": "stream",
     "text": [
      "John\n",
      "true\n",
      "\n"
     ]
    }
   ],
   "source": [
    "%%node\n",
    "var firstName = 'John';\n",
    "console.log(firstName);\n",
    "var lastName = 'Smith';\n",
    "var age = 28;\n",
    "var fullAge = true;\n",
    "console.log(fullAge);"
   ]
  },
  {
   "cell_type": "code",
   "execution_count": null,
   "metadata": {},
   "outputs": [],
   "source": []
  },
  {
   "cell_type": "code",
   "execution_count": null,
   "metadata": {},
   "outputs": [],
   "source": []
  }
 ],
 "metadata": {
  "kernelspec": {
   "display_name": "Python 3",
   "language": "python",
   "name": "python3"
  },
  "language_info": {
   "codemirror_mode": {
    "name": "ipython",
    "version": 3
   },
   "file_extension": ".py",
   "mimetype": "text/x-python",
   "name": "python",
   "nbconvert_exporter": "python",
   "pygments_lexer": "ipython3",
   "version": "3.7.6"
  }
 },
 "nbformat": 4,
 "nbformat_minor": 4
}
